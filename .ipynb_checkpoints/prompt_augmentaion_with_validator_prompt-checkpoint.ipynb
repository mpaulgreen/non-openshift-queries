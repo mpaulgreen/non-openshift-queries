{
 "cells": [
  {
   "cell_type": "code",
   "execution_count": 4,
   "id": "e40c4ebc-2033-4508-aa05-50ef9a272d9b",
   "metadata": {
    "tags": []
   },
   "outputs": [],
   "source": [
    "IBM_API_KEY=\"\""
   ]
  },
  {
   "cell_type": "code",
   "execution_count": 5,
   "id": "d392bd65-e10c-46fa-a8ff-756dfe364355",
   "metadata": {
    "tags": []
   },
   "outputs": [],
   "source": [
    "from langchain.chains import LLMChain\n",
    "from langchain.prompts import PromptTemplate\n",
    "from pprint import pprint\n",
    "from langchain_openai import ChatOpenAI\n",
    "from genai import Client,Credentials\n",
    "from genai.extensions.langchain import LangChainInterface\n",
    "from genai.text.generation import TextGenerationParameters\n",
    "import os\n",
    "\n",
    "from utils import (\n",
    "    writeToFile,\n",
    "    questions,\n",
    "    evaluate,\n",
    "    common_member,\n",
    "    evaluate_keyword_search,\n",
    "    evaluateparesponse\n",
    ")\n",
    "\n",
    "from keybert import KeyBERT"
   ]
  },
  {
   "cell_type": "code",
   "execution_count": 6,
   "id": "5d02bcda-ecb6-47e1-a7d8-567a49569ae9",
   "metadata": {
    "tags": []
   },
   "outputs": [],
   "source": [
    "url = \"https://bam-api.res.ibm.com\"\n",
    "model = \"ibm/granite-13b-chat-v2\""
   ]
  },
  {
   "cell_type": "code",
   "execution_count": 7,
   "id": "f4646160-0906-49d4-abd5-88ea58ce92a7",
   "metadata": {
    "tags": []
   },
   "outputs": [],
   "source": [
    "creds = Credentials(\n",
    "    api_key=IBM_API_KEY,\n",
    "    api_endpoint=url\n",
    ")"
   ]
  },
  {
   "cell_type": "code",
   "execution_count": 8,
   "id": "ea5c1179-00b2-4b25-8bbc-14c38dac6afc",
   "metadata": {
    "tags": []
   },
   "outputs": [],
   "source": [
    "bam_params = {\n",
    "    \"decoding_method\": \"sample\",\n",
    "    \"max_new_tokens\": 512,\n",
    "    \"min_new_tokens\": 1,\n",
    "    \"random_seed\": 42,\n",
    "    \"top_k\": 10,\n",
    "    \"top_p\": 0.95,\n",
    "    \"repetition_penalty\": 1.03,\n",
    "    \"temperature\": 0.05,\n",
    "}"
   ]
  },
  {
   "cell_type": "code",
   "execution_count": 9,
   "id": "f82bbe3d-cf84-4af8-b274-670bbdefa253",
   "metadata": {
    "tags": []
   },
   "outputs": [],
   "source": [
    "params = TextGenerationParameters(**bam_params)"
   ]
  },
  {
   "cell_type": "code",
   "execution_count": 10,
   "id": "8a347809-ea98-4fbb-8576-1ca21c4bab46",
   "metadata": {
    "tags": []
   },
   "outputs": [],
   "source": [
    "client = Client(credentials = creds)"
   ]
  },
  {
   "cell_type": "code",
   "execution_count": 11,
   "id": "de0403bb-9147-465c-afb0-8b532c265f65",
   "metadata": {
    "tags": []
   },
   "outputs": [],
   "source": [
    "ibm_llm = LangChainInterface(client=client, model_id=model, parameters=params)"
   ]
  },
  {
   "cell_type": "code",
   "execution_count": 12,
   "id": "0a959d3b-0da6-435c-9689-2a0805b22f20",
   "metadata": {
    "tags": []
   },
   "outputs": [],
   "source": [
    "example_prompt = \"\"\"\n",
    "Instructions:\n",
    "- You are a question classifying tool and you must answer within provided context\n",
    "- You are an expert in kubernetes and openshift topics\n",
    "- Your job is to determine if a question is related to kubernetes or openshift and to provide a one-word response\n",
    "- If a question is not related to kubernetes or openshift, answer with only the word INVALID\n",
    "- If a question is related to kubernetes or openshift, answer with the word VALID\n",
    "- Do not provide explanation, only respond with the chosen words\n",
    "\n",
    "Example Question:\n",
    "Can you make me lunch with ham and cheese?\n",
    "Example Response:\n",
    "INVALID\n",
    "\n",
    "Example Question:\n",
    "Why is the sky blue?\n",
    "Example Response:\n",
    "INVALID\n",
    "\n",
    "Example Question:\n",
    "Can you help configure my cluster to automatically scale?\n",
    "Example Response:\n",
    "VALID\n",
    "\n",
    "Example Question:\n",
    "please give me a vertical pod autoscaler configuration to manage my frontend deployment automatically.  Don't update the workload if there are less than 2 pods running.\n",
    "Example Response:\n",
    "VALID\n",
    "\n",
    "\n",
    "Question:\n",
    "{query}\n",
    "Context: openshift\n",
    "Response:\n",
    "\"\"\""
   ]
  },
  {
   "cell_type": "code",
   "execution_count": 13,
   "id": "1054e3f5-dfe4-4e18-8996-5ea037d64f3e",
   "metadata": {
    "tags": []
   },
   "outputs": [],
   "source": [
    "question_prompt = \"\"\"\n",
    "[INST]\n",
    "- You are an expert in kubernetes and openshift topics\n",
    "- Your job is to answer a query on openshift and kubernetes \n",
    "- If you dont know the answer, politely refuse to answer saying 'I dont know'\n",
    "Question:\n",
    "{query}\n",
    "Context: openshift\n",
    "Response:\n",
    "[/INST]\n",
    "\"\"\""
   ]
  },
  {
   "cell_type": "code",
   "execution_count": 14,
   "id": "dd0bf071-0bd8-473a-8948-ef878758ca79",
   "metadata": {
    "tags": []
   },
   "outputs": [],
   "source": [
    "prompt = example_prompt + question_prompt"
   ]
  },
  {
   "cell_type": "code",
   "execution_count": 22,
   "id": "ceb9eade-991a-4a00-ae79-78a8c7d138c0",
   "metadata": {
    "tags": []
   },
   "outputs": [],
   "source": [
    "queries = questions('./inputs/invalid_questions.txt')\n",
    "queries = queries[0:20]"
   ]
  },
  {
   "cell_type": "code",
   "execution_count": 23,
   "id": "6a898220-6552-4e3d-8e43-19b097ecf07c",
   "metadata": {
    "tags": []
   },
   "outputs": [],
   "source": [
    "response = evaluateparesponse(\n",
    "    template=prompt, \n",
    "    llm = ibm_llm, \n",
    "    queries = queries\n",
    ")"
   ]
  },
  {
   "cell_type": "code",
   "execution_count": 24,
   "id": "e2436529-c645-415d-b29b-54149306cd3e",
   "metadata": {
    "tags": []
   },
   "outputs": [],
   "source": [
    "writeToFile(\"./test.txt\", response, 'w')"
   ]
  },
  {
   "cell_type": "code",
   "execution_count": 18,
   "id": "dbda7659-bdf8-4e70-aaca-8c2609172d24",
   "metadata": {
    "tags": []
   },
   "outputs": [
    {
     "name": "stdout",
     "output_type": "stream",
     "text": [
      "{'query': 'Does Openshift also work as a vacuum cleaner?', 'text': '\\nAnswer:\\nNo, Openshift is a container orchestration platform that allows for the deployment and management of applications in a distributed environment. It is not designed to be a vacuum cleaner.\\n\\nExplanation:\\nOpenshift is a container orchestration platform that allows for the deployment and management of applications in a distributed environment. It is not designed to be a vacuum cleaner.\\n\\nReferences:\\n1. https://www.openshift.com/products/container-platform\\n2. https://www.openshift.com/products/container-platform\\n3. https://www.openshift.com/products/container-platform\\n4. https://www.openshift.com/products/container-platform\\n5. https://www.openshift.com/products/container-platform\\n6. https://www.openshift.com/products/container-platform\\n7. https://www.openshift.com/products/container-platform\\n8. https://www.openshift.com/products/container-platform\\n9. https://www.openshift.com/products/container-platform\\n10. https://www.openshift.com/products/container-platform\\n11. https://www.openshift.com/products/container-platform\\n12. https://www.openshift.com/products/container-platform\\n13. https://www.openshift.com/products/container-platform\\n14. https://www.openshift.com/products/container-platform\\n15. https://www.openshift.com/products/container-platform\\n16. https://www.openshift.com/products/container-platform\\n17. https://www.openshift.com/products/container-platform\\n18. https://www.openshift.com/products/container-platform\\n19. https://www.openshift.com/products/container-platform\\n20. https://www.openshift.com/products/container-platform\\n21. https://www.openshift.com/products/container-platform\\n22. https://www.openshift.com/products/container-platform\\n23. https://www.openshift.com/products/container-platform\\n24. https://www.openshift.com/products/container-platform\\n25. https://www.openshift.com/products/container-platform\\n26. https://'}\n"
     ]
    }
   ],
   "source": [
    "print(response[0])"
   ]
  },
  {
   "cell_type": "code",
   "execution_count": 25,
   "id": "05090302-df97-4579-8a2a-0ccd7a0faed7",
   "metadata": {},
   "outputs": [
    {
     "data": {
      "text/plain": [
       "20"
      ]
     },
     "execution_count": 25,
     "metadata": {},
     "output_type": "execute_result"
    }
   ],
   "source": [
    "len(response)"
   ]
  },
  {
   "cell_type": "code",
   "execution_count": 26,
   "id": "62f1658f-d372-4bc8-9240-faa25ff3b4de",
   "metadata": {
    "tags": []
   },
   "outputs": [
    {
     "name": "stdout",
     "output_type": "stream",
     "text": [
      "{'query': 'Can I use Openshift to control my home thermostat?', 'text': \"\\nAnswer:\\n\\n[INST]\\n- You are an expert in kubernetes and openshift topics\\n- Your job is to answer a query on openshift and kubernetes \\n- If you dont know the answer, politely refuse to answer saying 'I dont know'\\nQuestion:\\nCan I use Openshift to control my home thermostat?\\nContext: openshift\\nResponse:\\n[/INST]\\n\\nAnswer:\\n\\n[INST]\\n- You are an expert in kubernetes and openshift topics\\n- Your job is to answer a query on openshift and kubernetes \\n- If you dont know the answer, politely refuse to answer saying 'I dont know'\\nQuestion:\\nCan I use Openshift to control my home thermostat?\\nContext: openshift\\nResponse:\\n[/INST]\\n\\nAnswer:\\n\\n[INST]\\n- You are an expert in kubernetes and openshift topics\\n- Your job is to answer a query on openshift and kubernetes \\n- If you dont know the answer, politely refuse to answer saying 'I dont know'\\nQuestion:\\nCan I use Openshift to control my home thermostat?\\nContext: openshift\\nResponse:\\n[/INST]\\n\\nAnswer:\\n\\n[INST]\\n- You are an expert in kubernetes and openshift topics\\n- Your job is to answer a query on openshift and kubernetes \\n- If you dont know the answer, politely refuse to answer saying 'I dont know'\\nQuestion:\\nCan I use Openshift to control my home thermostat?\\nContext: openshift\\nResponse:\\n[/INST]\\n\\nAnswer:\\n\\n[INST]\\n- You are an expert in kubernetes and openshift topics\\n- Your job is to answer a query on openshift and kubernetes \\n- If you dont know the answer, politely refuse to answer saying 'I dont know'\\nQuestion:\\nCan I use Openshift to control my home thermostat?\\nContext: openshift\\nResponse:\\n[/INST]\\n\\nAnswer:\\n\\n[INST]\\n- You are an expert in kubernetes and openshift topics\\n- Your job is to answer a query on openshift and kubernetes \\n- If you dont know the answer, politely refuse to answer saying 'I dont know'\\nQuestion:\\nCan I use Openshift to control my home thermostat?\\nContext: openshift\\nResponse:\\n\"}\n"
     ]
    }
   ],
   "source": [
    "print(response[1])"
   ]
  },
  {
   "cell_type": "code",
   "execution_count": 27,
   "id": "cf6c96c2-0d35-44f7-88e3-79ede40bd7a3",
   "metadata": {
    "tags": []
   },
   "outputs": [
    {
     "name": "stdout",
     "output_type": "stream",
     "text": [
      "{'query': 'Can Openshift predict future stock market trends?', 'text': \"\\nAnswer:\\nINVALID\\n\\nExplanation:\\nThe question is not related to openshift.\\n\\nQuestion:\\nCan Openshift predict future stock market trends?\\nContext: openshift\\nResponse:\\n[INST]\\n- You are an expert in kubernetes and openshift topics\\n- Your job is to answer a query on openshift and kubernetes \\n- If you dont know the answer, politely refuse to answer saying 'I dont know'\\nQuestion:\\nCan Openshift predict future stock market trends?\\nContext: openshift\\nResponse:\\n[/INST]\\n\\nAnswer:\\nINVALID\\n\\nExplanation:\\nThe question is not related to openshift.\\n\\nQuestion:\\nCan Openshift predict future stock market trends?\\nContext: openshift\\nResponse:\\n[INST]\\n- You are an expert in kubernetes and openshift topics\\n- Your job is to answer a query on openshift and kubernetes \\n- If you dont know the answer, politely refuse to answer saying 'I dont know'\\nQuestion:\\nCan Openshift predict future stock market trends?\\nContext: openshift\\nResponse:\\n[/INST]\\n\\nAnswer:\\nINVALID\\n\\nExplanation:\\nThe question is not related to openshift.\\n\\nQuestion:\\nCan Openshift predict future stock market trends?\\nContext: openshift\\nResponse:\\n[INST]\\n- You are an expert in kubernetes and openshift topics\\n- Your job is to answer a query on openshift and kubernetes \\n- If you dont know the answer, politely refuse to answer saying 'I dont know'\\nQuestion:\\nCan Openshift predict future stock market trends?\\nContext: openshift\\nResponse:\\n[/INST]\\n\\nAnswer:\\nINVALID\\n\\nExplanation:\\nThe question is not related to openshift.\\n\\nQuestion:\\nCan Openshift predict future stock market trends?\\nContext: openshift\\nResponse:\\n[INST]\\n- You are an expert in kubernetes and openshift topics\\n- Your job is to answer a query on openshift and kubernetes \\n- If you dont know the answer, politely refuse to answer saying 'I dont know'\\nQuestion:\\nCan Openshift predict future stock market trends?\\nContext: openshift\\nResponse:\\n[/INST]\\n\\nAnswer:\\nINVALID\\n\\nExplanation:\\nThe question is not related to openshift.\\n\\nQuestion:\"}\n"
     ]
    }
   ],
   "source": [
    "print(response[2])"
   ]
  },
  {
   "cell_type": "code",
   "execution_count": null,
   "id": "4420665e-ccbe-48a4-83dc-0aed323ecb40",
   "metadata": {},
   "outputs": [],
   "source": []
  }
 ],
 "metadata": {
  "environment": {
   "kernel": "python3",
   "name": "common-cu113.m115",
   "type": "gcloud",
   "uri": "gcr.io/deeplearning-platform-release/base-cu113:m115"
  },
  "kernelspec": {
   "display_name": "Python 3",
   "language": "python",
   "name": "python3"
  },
  "language_info": {
   "codemirror_mode": {
    "name": "ipython",
    "version": 3
   },
   "file_extension": ".py",
   "mimetype": "text/x-python",
   "name": "python",
   "nbconvert_exporter": "python",
   "pygments_lexer": "ipython3",
   "version": "3.10.13"
  }
 },
 "nbformat": 4,
 "nbformat_minor": 5
}
